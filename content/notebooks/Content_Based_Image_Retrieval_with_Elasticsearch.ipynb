{
 "metadata": {
  "name": "",
  "signature": "sha256:03e573a07e2a7e59b14f6e931e8d4dec0145dbf712a233192289d312aae3e5e3"
 },
 "nbformat": 3,
 "nbformat_minor": 0,
 "worksheets": [
  {
   "cells": [
    {
     "cell_type": "code",
     "collapsed": false,
     "input": [
      "fields = ['features', 'processed_urls']\n",
      "\n",
      "import h5py\n",
      "with h5py.File('flickr_20k_features.hdf5') as f:\n",
      "    data = {field: f[field].value for field in fields}\n",
      "\n",
      "print data['processed_urls'][:4]\n",
      "print data['features'][:4]"
     ],
     "language": "python",
     "metadata": {},
     "outputs": [
      {
       "output_type": "stream",
       "stream": "stdout",
       "text": [
        "['http://farm2.staticflickr.com/1227/5159730964_124c1e63d8.jpg'\n",
        " 'http://farm9.staticflickr.com/8368/8530766395_4229f47bf4.jpg'\n",
        " 'http://farm3.staticflickr.com/2875/13297737684_11aeeda27a.jpg'\n",
        " 'http://farm8.staticflickr.com/7218/13293240683_069fd4cca5.jpg']\n",
        "[[ 0.          0.          0.         ...,  0.23254371  0.          0.        ]\n",
        " [ 0.          0.25537062  0.         ...,  0.          0.          0.        ]\n",
        " [ 0.          0.          0.         ...,  1.15372443  0.          0.        ]\n",
        " [ 0.          0.          0.         ...,  1.79112899  0.          0.        ]]\n"
       ]
      }
     ],
     "prompt_number": 2
    },
    {
     "cell_type": "code",
     "collapsed": false,
     "input": [
      "from sklearn.decomposition import PCA\n",
      "\n",
      "pca = PCA(n_components=15)\n",
      "%time reduced_features = pca.fit_transform(data['features'])"
     ],
     "language": "python",
     "metadata": {},
     "outputs": [
      {
       "output_type": "stream",
       "stream": "stdout",
       "text": [
        "CPU times: user 4min 54s, sys: 4.15 s, total: 4min 58s\n",
        "Wall time: 3min 40s\n"
       ]
      }
     ],
     "prompt_number": 4
    },
    {
     "cell_type": "code",
     "collapsed": false,
     "input": [
      "# plot cosine similarity of 2 images\n",
      "import random\n",
      "from scipy.spatial.distance import cosine\n",
      "\n",
      "similar_images = [0, ]\n",
      "random_pair = [0, random.randint(0, data['features'].shape[0])]\n",
      "\n",
      "def distance(pair):\n",
      "    return cosine(femto_features[pair[0]], femto_features[pair[1]])\n",
      "\n",
      "print distance(similar_images), distance(random_pair)"
     ],
     "language": "python",
     "metadata": {},
     "outputs": []
    },
    {
     "cell_type": "code",
     "collapsed": false,
     "input": [
      "import numpy as np\n",
      "import skimage.io\n",
      "from scipy.ndimage import zoom\n",
      "\n",
      "def center_crop_image(url):\n",
      "    \"\"\"\n",
      "    Scale and center-crop the images, so they appear as the neural network sees them\n",
      "    \"\"\"\n",
      "    image = skimage.io.imread(url)\n",
      "    \n",
      "    # intepret greyscale images as RGB\n",
      "    if image.ndim == 2:\n",
      "        image = image[:, :, np.newaxis]\n",
      "        image = np.tile(image, (1, 1, 3))\n",
      "    \n",
      "    # resize the image\n",
      "    input_image_dimensions = np.array([227, 227])\n",
      "    scale = input_image_dimensions[0].astype('float32') / np.array(image.shape)[:2]\n",
      "    \n",
      "    # scale up or down in size?\n",
      "    if scale.min() <= input_image_dimensions.min():\n",
      "        zoom_factor = scale.max()\n",
      "    else:\n",
      "        zoom_factor = scale.min()\n",
      "    \n",
      "    resized_image = zoom(image, (zoom_factor, zoom_factor, 1), order=1)\n",
      "    \n",
      "    # centre crop the image\n",
      "    center = np.array(resized_image.shape[:2]) / 2.0\n",
      "    crop = np.tile(center, (1, 2))[0] + np.concatenate([-input_image_dimensions / 2.0, input_image_dimensions / 2.0])\n",
      "    center_cropped_image = resized_image[crop[0]:crop[2], crop[1]:crop[3], :]\n",
      "    return center_cropped_image\n",
      "\n",
      "\n",
      "def plot_image_pairs(pair, figure_title=\"\"):\n",
      "    images = [center_crop_image(data['processed_urls'][i] for i in pair)]\n",
      "    fig, axes = plt.subplots(nrows=1, ncols=2, figsize=(12, 4))\n",
      "    fig.suptitle(figure_title, fontsize=30)\n",
      "    for index, image_index in enumerate(pair):\n",
      "        axes[0, index].xaxis.set_visible(False)\n",
      "        axes[0, index].yaxis.set_visible(False)\n",
      "        axes[0, index].imshow(images[index])\n",
      "\n",
      "plot_image_pairs(similar_images, \"Distance: {0}\".format(distance(similar_images)))"
     ],
     "language": "python",
     "metadata": {},
     "outputs": []
    },
    {
     "cell_type": "code",
     "collapsed": false,
     "input": [
      "plot_image_pairs(random_pair, \"Distance: {0}\".format(distance(random_pair)))"
     ],
     "language": "python",
     "metadata": {},
     "outputs": []
    },
    {
     "cell_type": "markdown",
     "metadata": {},
     "source": [
      "```docker pull docker/elasticsearch```\n",
      "```docker run -d -p 9200:9200 -p 9300:9300 dockerfile/elasticsearch```"
     ]
    },
    {
     "cell_type": "code",
     "collapsed": false,
     "input": [
      "bulk_data = []\n",
      "for index in xrange(reduced_features.shape[0]):\n",
      "    document_metadata = {'index': {'_index': 'images', '_type': 'features', '_id': index}}\n",
      "    \n",
      "    document = dict(**{\"feature_{0}\".format(i): float(reduced_features[index][i]) for i in xrange(reduced_features.shape[1])})\n",
      "    document['url'] = data['processed_urls'][index]\n",
      "    document['id'] = index + 1\n",
      "\n",
      "    bulk_data.append(document_metadata)\n",
      "    bulk_data.append(document)"
     ],
     "language": "python",
     "metadata": {},
     "outputs": [],
     "prompt_number": 16
    },
    {
     "cell_type": "code",
     "collapsed": false,
     "input": [
      "from elasticsearch import Elasticsearch\n",
      "\n",
      "es = Elasticsearch(hosts=[{'host': '192.168.59.103', 'port': 9200}])  # on a mac use `boot2docker ip` rather than localhost\n",
      "\n",
      "# define mapping with stored floats"
     ],
     "language": "python",
     "metadata": {},
     "outputs": [
      {
       "metadata": {},
       "output_type": "pyout",
       "prompt_number": 20,
       "text": [
        "{u'_shards': {u'failed': 0, u'successful': 5, u'total': 5},\n",
        " u'hits': {u'hits': [{u'_id': u'4',\n",
        "    u'_index': u'images',\n",
        "    u'_score': 1.0,\n",
        "    u'_source': {u'feature_0': 0.5867677927017212,\n",
        "     u'feature_1': -2.4237852096557617,\n",
        "     u'feature_10': 3.4360413551330566,\n",
        "     u'feature_11': 6.980696678161621,\n",
        "     u'feature_12': -3.0185842514038086,\n",
        "     u'feature_13': -9.509093284606934,\n",
        "     u'feature_14': -1.5023932456970215,\n",
        "     u'feature_2': 4.682729244232178,\n",
        "     u'feature_3': -7.8404645919799805,\n",
        "     u'feature_4': -2.014082670211792,\n",
        "     u'feature_5': 8.385200500488281,\n",
        "     u'feature_6': -2.810117721557617,\n",
        "     u'feature_7': -19.474809646606445,\n",
        "     u'feature_8': 7.927840709686279,\n",
        "     u'feature_9': -8.086018562316895,\n",
        "     u'id': 4,\n",
        "     u'url': u'http://farm4.staticflickr.com/3712/13293330564_f57612eb78.jpg'},\n",
        "    u'_type': u'features'},\n",
        "   {u'_id': u'9',\n",
        "    u'_index': u'images',\n",
        "    u'_score': 1.0,\n",
        "    u'_source': {u'feature_0': -7.388093948364258,\n",
        "     u'feature_1': 10.129280090332031,\n",
        "     u'feature_10': -5.572540283203125,\n",
        "     u'feature_11': 5.87751579284668,\n",
        "     u'feature_12': 0.5167533755302429,\n",
        "     u'feature_13': -6.131930828094482,\n",
        "     u'feature_14': -13.090032577514648,\n",
        "     u'feature_2': -10.157129287719727,\n",
        "     u'feature_3': -10.4027099609375,\n",
        "     u'feature_4': -5.6847734451293945,\n",
        "     u'feature_5': -3.2705302238464355,\n",
        "     u'feature_6': -12.454986572265625,\n",
        "     u'feature_7': -6.322256088256836,\n",
        "     u'feature_8': 0.19049102067947388,\n",
        "     u'feature_9': -10.915995597839355,\n",
        "     u'id': 9,\n",
        "     u'url': u'http://farm8.staticflickr.com/7049/13283837825_564a53e0f0.jpg'},\n",
        "    u'_type': u'features'}],\n",
        "  u'max_score': 1.0,\n",
        "  u'total': 20000},\n",
        " u'timed_out': False,\n",
        " u'took': 82}"
       ]
      }
     ],
     "prompt_number": 20
    },
    {
     "cell_type": "code",
     "collapsed": false,
     "input": [
      "res = es.bulk(index='images', body=bulk_data, refresh=True)"
     ],
     "language": "python",
     "metadata": {},
     "outputs": []
    },
    {
     "cell_type": "code",
     "collapsed": false,
     "input": [
      "es.search(index='images', size=2, body={\"query\": {\"match_all\": {}}})"
     ],
     "language": "python",
     "metadata": {},
     "outputs": [
      {
       "metadata": {},
       "output_type": "pyout",
       "prompt_number": 21,
       "text": [
        "{u'_shards': {u'failed': 0, u'successful': 5, u'total': 5},\n",
        " u'hits': {u'hits': [{u'_id': u'4',\n",
        "    u'_index': u'images',\n",
        "    u'_score': 1.0,\n",
        "    u'_source': {u'feature_0': 0.5867677927017212,\n",
        "     u'feature_1': -2.4237852096557617,\n",
        "     u'feature_10': 3.4360413551330566,\n",
        "     u'feature_11': 6.980696678161621,\n",
        "     u'feature_12': -3.0185842514038086,\n",
        "     u'feature_13': -9.509093284606934,\n",
        "     u'feature_14': -1.5023932456970215,\n",
        "     u'feature_2': 4.682729244232178,\n",
        "     u'feature_3': -7.8404645919799805,\n",
        "     u'feature_4': -2.014082670211792,\n",
        "     u'feature_5': 8.385200500488281,\n",
        "     u'feature_6': -2.810117721557617,\n",
        "     u'feature_7': -19.474809646606445,\n",
        "     u'feature_8': 7.927840709686279,\n",
        "     u'feature_9': -8.086018562316895,\n",
        "     u'id': 4,\n",
        "     u'url': u'http://farm4.staticflickr.com/3712/13293330564_f57612eb78.jpg'},\n",
        "    u'_type': u'features'},\n",
        "   {u'_id': u'9',\n",
        "    u'_index': u'images',\n",
        "    u'_score': 1.0,\n",
        "    u'_source': {u'feature_0': -7.388093948364258,\n",
        "     u'feature_1': 10.129280090332031,\n",
        "     u'feature_10': -5.572540283203125,\n",
        "     u'feature_11': 5.87751579284668,\n",
        "     u'feature_12': 0.5167533755302429,\n",
        "     u'feature_13': -6.131930828094482,\n",
        "     u'feature_14': -13.090032577514648,\n",
        "     u'feature_2': -10.157129287719727,\n",
        "     u'feature_3': -10.4027099609375,\n",
        "     u'feature_4': -5.6847734451293945,\n",
        "     u'feature_5': -3.2705302238464355,\n",
        "     u'feature_6': -12.454986572265625,\n",
        "     u'feature_7': -6.322256088256836,\n",
        "     u'feature_8': 0.19049102067947388,\n",
        "     u'feature_9': -10.915995597839355,\n",
        "     u'id': 9,\n",
        "     u'url': u'http://farm8.staticflickr.com/7049/13283837825_564a53e0f0.jpg'},\n",
        "    u'_type': u'features'}],\n",
        "  u'max_score': 1.0,\n",
        "  u'total': 20000},\n",
        " u'timed_out': False,\n",
        " u'took': 19}"
       ]
      }
     ],
     "prompt_number": 21
    },
    {
     "cell_type": "code",
     "collapsed": false,
     "input": [
      "feature_fields = [\"feature_{0}\".format(i) for i in xrange(reduced_features.shape[1])]\n",
      "es.mlt(index='images', doc_type='features', search_size=6, mlt_fields=feature_fields, id=1)"
     ],
     "language": "python",
     "metadata": {},
     "outputs": [
      {
       "output_type": "stream",
       "stream": "stderr",
       "text": [
        "WARNING:elasticsearch:GET /images/features/1/_mlt?search_size=6&mlt_fields=feature_0%2Cfeature_1%2Cfeature_2%2Cfeature_3%2Cfeature_4%2Cfeature_5%2Cfeature_6%2Cfeature_7%2Cfeature_8%2Cfeature_9%2Cfeature_10%2Cfeature_11%2Cfeature_12%2Cfeature_13%2Cfeature_14 [status:400 request:0.073s]\n"
       ]
      },
      {
       "ename": "RequestError",
       "evalue": "TransportError(400, u'SearchPhaseExecutionException[Failed to execute phase [query], all shards failed; shardFailures {[UQ8b64lHT9asgODLHBj5Xg][images][0]: SearchParseException[[images][0]: from[-1],size[6]: Parse Failure [Failed to parse source [{\"size\":6,\"query\":{\"bool\":{\"must_not\":{\"term\":{\"_uid\":\"features#1\"}},\"should\":[{\"mlt\":{\"fields\":[\"feature_5\"],\"like_text\":\"-0.6091861128807068\",\"fail_on_unsupported_field\":true}},{\"mlt\":{\"fields\":[\"feature_6\"],\"like_text\":\"7.803163051605225\",\"fail_on_unsupported_field\":true}},{\"mlt\":{\"fields\":[\"feature_7\"],\"like_text\":\"5.537357807159424\",\"fail_on_unsupported_field\":true}},{\"mlt\":{\"fields\":[\"feature_8\"],\"like_text\":\"18.04304313659668\",\"fail_on_unsupported_field\":true}},{\"mlt\":{\"fields\":[\"feature_1\"],\"like_text\":\"-12.612841606140137\",\"fail_on_unsupported_field\":true}},{\"mlt\":{\"fields\":[\"feature_2\"],\"like_text\":\"-0.8290179371833801\",\"fail_on_unsupported_field\":true}},{\"mlt\":{\"fields\":[\"feature_3\"],\"like_text\":\"18.542387008666992\",\"fail_on_unsupported_field\":true}},{\"mlt\":{\"fields\":[\"feature_4\"],\"like_text\":\"-2.306966781616211\",\"fail_on_unsupported_field\":true}},{\"mlt\":{\"fields\":[\"feature_0\"],\"like_text\":\"-7.9731926918029785\",\"fail_on_unsupported_field\":true}},{\"mlt\":{\"fields\":[\"feature_14\"],\"like_text\":\"-0.27988433837890625\",\"fail_on_unsupported_field\":true}},{\"mlt\":{\"fields\":[\"feature_11\"],\"like_text\":\"3.513390302658081\",\"fail_on_unsupported_field\":true}},{\"mlt\":{\"fields\":[\"feature_10\"],\"like_text\":\"-1.1521559953689575\",\"fail_on_unsupported_field\":true}},{\"mlt\":{\"fields\":[\"feature_13\"],\"like_text\":\"-18.209564208984375\",\"fail_on_unsupported_field\":true}},{\"mlt\":{\"fields\":[\"feature_12\"],\"like_text\":\"-6.420875549316406\",\"fail_on_unsupported_field\":true}},{\"mlt\":{\"fields\":[\"feature_9\"],\"like_text\":\"4.8709187507629395\",\"fail_on_unsupported_field\":true}}],\"adjust_pure_negative\":false}}}]]]; nested: ElasticsearchIllegalArgumentException[more_like_this doesn\\'t support binary/numeric fields: [feature_5]]; }{[UQ8b64lHT9asgODLHBj5Xg][images][1]: SearchParseException[[images][1]: from[-1],size[6]: Parse Failure [Failed to parse source [{\"size\":6,\"query\":{\"bool\":{\"must_not\":{\"term\":{\"_uid\":\"features#1\"}},\"should\":[{\"mlt\":{\"fields\":[\"feature_5\"],\"like_text\":\"-0.6091861128807068\",\"fail_on_unsupported_field\":true}},{\"mlt\":{\"fields\":[\"feature_6\"],\"like_text\":\"7.803163051605225\",\"fail_on_unsupported_field\":true}},{\"mlt\":{\"fields\":[\"feature_7\"],\"like_text\":\"5.537357807159424\",\"fail_on_unsupported_field\":true}},{\"mlt\":{\"fields\":[\"feature_8\"],\"like_text\":\"18.04304313659668\",\"fail_on_unsupported_field\":true}},{\"mlt\":{\"fields\":[\"feature_1\"],\"like_text\":\"-12.612841606140137\",\"fail_on_unsupported_field\":true}},{\"mlt\":{\"fields\":[\"feature_2\"],\"like_text\":\"-0.8290179371833801\",\"fail_on_unsupported_field\":true}},{\"mlt\":{\"fields\":[\"feature_3\"],\"like_text\":\"18.542387008666992\",\"fail_on_unsupported_field\":true}},{\"mlt\":{\"fields\":[\"feature_4\"],\"like_text\":\"-2.306966781616211\",\"fail_on_unsupported_field\":true}},{\"mlt\":{\"fields\":[\"feature_0\"],\"like_text\":\"-7.9731926918029785\",\"fail_on_unsupported_field\":true}},{\"mlt\":{\"fields\":[\"feature_14\"],\"like_text\":\"-0.27988433837890625\",\"fail_on_unsupported_field\":true}},{\"mlt\":{\"fields\":[\"feature_11\"],\"like_text\":\"3.513390302658081\",\"fail_on_unsupported_field\":true}},{\"mlt\":{\"fields\":[\"feature_10\"],\"like_text\":\"-1.1521559953689575\",\"fail_on_unsupported_field\":true}},{\"mlt\":{\"fields\":[\"feature_13\"],\"like_text\":\"-18.209564208984375\",\"fail_on_unsupported_field\":true}},{\"mlt\":{\"fields\":[\"feature_12\"],\"like_text\":\"-6.420875549316406\",\"fail_on_unsupported_field\":true}},{\"mlt\":{\"fields\":[\"feature_9\"],\"like_text\":\"4.8709187507629395\",\"fail_on_unsupported_field\":true}}],\"adjust_pure_negative\":false}}}]]]; nested: ElasticsearchIllegalArgumentException[more_like_this doesn\\'t support binary/numeric fields: [feature_5]]; }{[UQ8b64lHT9asgODLHBj5Xg][images][2]: SearchParseException[[images][2]: from[-1],size[6]: Parse Failure [Failed to parse source [{\"size\":6,\"query\":{\"bool\":{\"must_not\":{\"term\":{\"_uid\":\"features#1\"}},\"should\":[{\"mlt\":{\"fields\":[\"feature_5\"],\"like_text\":\"-0.6091861128807068\",\"fail_on_unsupported_field\":true}},{\"mlt\":{\"fields\":[\"feature_6\"],\"like_text\":\"7.803163051605225\",\"fail_on_unsupported_field\":true}},{\"mlt\":{\"fields\":[\"feature_7\"],\"like_text\":\"5.537357807159424\",\"fail_on_unsupported_field\":true}},{\"mlt\":{\"fields\":[\"feature_8\"],\"like_text\":\"18.04304313659668\",\"fail_on_unsupported_field\":true}},{\"mlt\":{\"fields\":[\"feature_1\"],\"like_text\":\"-12.612841606140137\",\"fail_on_unsupported_field\":true}},{\"mlt\":{\"fields\":[\"feature_2\"],\"like_text\":\"-0.8290179371833801\",\"fail_on_unsupported_field\":true}},{\"mlt\":{\"fields\":[\"feature_3\"],\"like_text\":\"18.542387008666992\",\"fail_on_unsupported_field\":true}},{\"mlt\":{\"fields\":[\"feature_4\"],\"like_text\":\"-2.306966781616211\",\"fail_on_unsupported_field\":true}},{\"mlt\":{\"fields\":[\"feature_0\"],\"like_text\":\"-7.9731926918029785\",\"fail_on_unsupported_field\":true}},{\"mlt\":{\"fields\":[\"feature_14\"],\"like_text\":\"-0.27988433837890625\",\"fail_on_unsupported_field\":true}},{\"mlt\":{\"fields\":[\"feature_11\"],\"like_text\":\"3.513390302658081\",\"fail_on_unsupported_field\":true}},{\"mlt\":{\"fields\":[\"feature_10\"],\"like_text\":\"-1.1521559953689575\",\"fail_on_unsupported_field\":true}},{\"mlt\":{\"fields\":[\"feature_13\"],\"like_text\":\"-18.209564208984375\",\"fail_on_unsupported_field\":true}},{\"mlt\":{\"fields\":[\"feature_12\"],\"like_text\":\"-6.420875549316406\",\"fail_on_unsupported_field\":true}},{\"mlt\":{\"fields\":[\"feature_9\"],\"like_text\":\"4.8709187507629395\",\"fail_on_unsupported_field\":true}}],\"adjust_pure_negative\":false}}}]]]; nested: ElasticsearchIllegalArgumentException[more_like_this doesn\\'t support binary/numeric fields: [feature_5]]; }{[UQ8b64lHT9asgODLHBj5Xg][images][3]: SearchParseException[[images][3]: from[-1],size[6]: Parse Failure [Failed to parse source [{\"size\":6,\"query\":{\"bool\":{\"must_not\":{\"term\":{\"_uid\":\"features#1\"}},\"should\":[{\"mlt\":{\"fields\":[\"feature_5\"],\"like_text\":\"-0.6091861128807068\",\"fail_on_unsupported_field\":true}},{\"mlt\":{\"fields\":[\"feature_6\"],\"like_text\":\"7.803163051605225\",\"fail_on_unsupported_field\":true}},{\"mlt\":{\"fields\":[\"feature_7\"],\"like_text\":\"5.537357807159424\",\"fail_on_unsupported_field\":true}},{\"mlt\":{\"fields\":[\"feature_8\"],\"like_text\":\"18.04304313659668\",\"fail_on_unsupported_field\":true}},{\"mlt\":{\"fields\":[\"feature_1\"],\"like_text\":\"-12.612841606140137\",\"fail_on_unsupported_field\":true}},{\"mlt\":{\"fields\":[\"feature_2\"],\"like_text\":\"-0.8290179371833801\",\"fail_on_unsupported_field\":true}},{\"mlt\":{\"fields\":[\"feature_3\"],\"like_text\":\"18.542387008666992\",\"fail_on_unsupported_field\":true}},{\"mlt\":{\"fields\":[\"feature_4\"],\"like_text\":\"-2.306966781616211\",\"fail_on_unsupported_field\":true}},{\"mlt\":{\"fields\":[\"feature_0\"],\"like_text\":\"-7.9731926918029785\",\"fail_on_unsupported_field\":true}},{\"mlt\":{\"fields\":[\"feature_14\"],\"like_text\":\"-0.27988433837890625\",\"fail_on_unsupported_field\":true}},{\"mlt\":{\"fields\":[\"feature_11\"],\"like_text\":\"3.513390302658081\",\"fail_on_unsupported_field\":true}},{\"mlt\":{\"fields\":[\"feature_10\"],\"like_text\":\"-1.1521559953689575\",\"fail_on_unsupported_field\":true}},{\"mlt\":{\"fields\":[\"feature_13\"],\"like_text\":\"-18.209564208984375\",\"fail_on_unsupported_field\":true}},{\"mlt\":{\"fields\":[\"feature_12\"],\"like_text\":\"-6.420875549316406\",\"fail_on_unsupported_field\":true}},{\"mlt\":{\"fields\":[\"feature_9\"],\"like_text\":\"4.8709187507629395\",\"fail_on_unsupported_field\":true}}],\"adjust_pure_negative\":false}}}]]]; nested: ElasticsearchIllegalArgumentException[more_like_this doesn\\'t support binary/numeric fields: [feature_5]]; }{[UQ8b64lHT9asgODLHBj5Xg][images][4]: SearchParseException[[images][4]: from[-1],size[6]: Parse Failure [Failed to parse source [{\"size\":6,\"query\":{\"bool\":{\"must_not\":{\"term\":{\"_uid\":\"features#1\"}},\"should\":[{\"mlt\":{\"fields\":[\"feature_5\"],\"like_text\":\"-0.6091861128807068\",\"fail_on_unsupported_field\":true}},{\"mlt\":{\"fields\":[\"feature_6\"],\"like_text\":\"7.803163051605225\",\"fail_on_unsupported_field\":true}},{\"mlt\":{\"fields\":[\"feature_7\"],\"like_text\":\"5.537357807159424\",\"fail_on_unsupported_field\":true}},{\"mlt\":{\"fields\":[\"feature_8\"],\"like_text\":\"18.04304313659668\",\"fail_on_unsupported_field\":true}},{\"mlt\":{\"fields\":[\"feature_1\"],\"like_text\":\"-12.612841606140137\",\"fail_on_unsupported_field\":true}},{\"mlt\":{\"fields\":[\"feature_2\"],\"like_text\":\"-0.8290179371833801\",\"fail_on_unsupported_field\":true}},{\"mlt\":{\"fields\":[\"feature_3\"],\"like_text\":\"18.542387008666992\",\"fail_on_unsupported_field\":true}},{\"mlt\":{\"fields\":[\"feature_4\"],\"like_text\":\"-2.306966781616211\",\"fail_on_unsupported_field\":true}},{\"mlt\":{\"fields\":[\"feature_0\"],\"like_text\":\"-7.9731926918029785\",\"fail_on_unsupported_field\":true}},{\"mlt\":{\"fields\":[\"feature_14\"],\"like_text\":\"-0.27988433837890625\",\"fail_on_unsupported_field\":true}},{\"mlt\":{\"fields\":[\"feature_11\"],\"like_text\":\"3.513390302658081\",\"fail_on_unsupported_field\":true}},{\"mlt\":{\"fields\":[\"feature_10\"],\"like_text\":\"-1.1521559953689575\",\"fail_on_unsupported_field\":true}},{\"mlt\":{\"fields\":[\"feature_13\"],\"like_text\":\"-18.209564208984375\",\"fail_on_unsupported_field\":true}},{\"mlt\":{\"fields\":[\"feature_12\"],\"like_text\":\"-6.420875549316406\",\"fail_on_unsupported_field\":true}},{\"mlt\":{\"fields\":[\"feature_9\"],\"like_text\":\"4.8709187507629395\",\"fail_on_unsupported_field\":true}}],\"adjust_pure_negative\":false}}}]]]; nested: ElasticsearchIllegalArgumentException[more_like_this doesn\\'t support binary/numeric fields: [feature_5]]; }]')",
       "output_type": "pyerr",
       "traceback": [
        "\u001b[0;31m---------------------------------------------------------------------------\u001b[0m\n\u001b[0;31mRequestError\u001b[0m                              Traceback (most recent call last)",
        "\u001b[0;32m<ipython-input-23-ab6fcc76edc1>\u001b[0m in \u001b[0;36m<module>\u001b[0;34m()\u001b[0m\n\u001b[1;32m      1\u001b[0m \u001b[0mfeature_fields\u001b[0m \u001b[0;34m=\u001b[0m \u001b[0;34m[\u001b[0m\u001b[0;34m\"feature_{0}\"\u001b[0m\u001b[0;34m.\u001b[0m\u001b[0mformat\u001b[0m\u001b[0;34m(\u001b[0m\u001b[0mi\u001b[0m\u001b[0;34m)\u001b[0m \u001b[0;32mfor\u001b[0m \u001b[0mi\u001b[0m \u001b[0;32min\u001b[0m \u001b[0mxrange\u001b[0m\u001b[0;34m(\u001b[0m\u001b[0mreduced_features\u001b[0m\u001b[0;34m.\u001b[0m\u001b[0mshape\u001b[0m\u001b[0;34m[\u001b[0m\u001b[0;36m1\u001b[0m\u001b[0;34m]\u001b[0m\u001b[0;34m)\u001b[0m\u001b[0;34m]\u001b[0m\u001b[0;34m\u001b[0m\u001b[0m\n\u001b[0;32m----> 2\u001b[0;31m \u001b[0mes\u001b[0m\u001b[0;34m.\u001b[0m\u001b[0mmlt\u001b[0m\u001b[0;34m(\u001b[0m\u001b[0mindex\u001b[0m\u001b[0;34m=\u001b[0m\u001b[0;34m'images'\u001b[0m\u001b[0;34m,\u001b[0m \u001b[0mdoc_type\u001b[0m\u001b[0;34m=\u001b[0m\u001b[0;34m'features'\u001b[0m\u001b[0;34m,\u001b[0m \u001b[0msearch_size\u001b[0m\u001b[0;34m=\u001b[0m\u001b[0;36m6\u001b[0m\u001b[0;34m,\u001b[0m \u001b[0mmlt_fields\u001b[0m\u001b[0;34m=\u001b[0m\u001b[0mfeature_fields\u001b[0m\u001b[0;34m,\u001b[0m \u001b[0mid\u001b[0m\u001b[0;34m=\u001b[0m\u001b[0;36m1\u001b[0m\u001b[0;34m)\u001b[0m\u001b[0;34m\u001b[0m\u001b[0m\n\u001b[0m",
        "\u001b[0;32m/Users/rob/anaconda/envs/awesome/lib/python2.7/site-packages/elasticsearch/client/utils.pyc\u001b[0m in \u001b[0;36m_wrapped\u001b[0;34m(*args, **kwargs)\u001b[0m\n\u001b[1;32m     66\u001b[0m                 \u001b[0;32mif\u001b[0m \u001b[0mp\u001b[0m \u001b[0;32min\u001b[0m \u001b[0mkwargs\u001b[0m\u001b[0;34m:\u001b[0m\u001b[0;34m\u001b[0m\u001b[0m\n\u001b[1;32m     67\u001b[0m                     \u001b[0mparams\u001b[0m\u001b[0;34m[\u001b[0m\u001b[0mp\u001b[0m\u001b[0;34m]\u001b[0m \u001b[0;34m=\u001b[0m \u001b[0mkwargs\u001b[0m\u001b[0;34m.\u001b[0m\u001b[0mpop\u001b[0m\u001b[0;34m(\u001b[0m\u001b[0mp\u001b[0m\u001b[0;34m)\u001b[0m\u001b[0;34m\u001b[0m\u001b[0m\n\u001b[0;32m---> 68\u001b[0;31m             \u001b[0;32mreturn\u001b[0m \u001b[0mfunc\u001b[0m\u001b[0;34m(\u001b[0m\u001b[0;34m*\u001b[0m\u001b[0margs\u001b[0m\u001b[0;34m,\u001b[0m \u001b[0mparams\u001b[0m\u001b[0;34m=\u001b[0m\u001b[0mparams\u001b[0m\u001b[0;34m,\u001b[0m \u001b[0;34m**\u001b[0m\u001b[0mkwargs\u001b[0m\u001b[0;34m)\u001b[0m\u001b[0;34m\u001b[0m\u001b[0m\n\u001b[0m\u001b[1;32m     69\u001b[0m         \u001b[0;32mreturn\u001b[0m \u001b[0m_wrapped\u001b[0m\u001b[0;34m\u001b[0m\u001b[0m\n\u001b[1;32m     70\u001b[0m     \u001b[0;32mreturn\u001b[0m \u001b[0m_wrapper\u001b[0m\u001b[0;34m\u001b[0m\u001b[0m\n",
        "\u001b[0;32m/Users/rob/anaconda/envs/awesome/lib/python2.7/site-packages/elasticsearch/client/__init__.pyc\u001b[0m in \u001b[0;36mmlt\u001b[0;34m(self, index, doc_type, id, body, params)\u001b[0m\n\u001b[1;32m    960\u001b[0m                 \u001b[0;32mraise\u001b[0m \u001b[0mValueError\u001b[0m\u001b[0;34m(\u001b[0m\u001b[0;34m\"Empty value passed for a required argument.\"\u001b[0m\u001b[0;34m)\u001b[0m\u001b[0;34m\u001b[0m\u001b[0m\n\u001b[1;32m    961\u001b[0m         _, data = self.transport.perform_request('GET', _make_path(index, doc_type, id, '_mlt'),\n\u001b[0;32m--> 962\u001b[0;31m             params=params, body=body)\n\u001b[0m\u001b[1;32m    963\u001b[0m         \u001b[0;32mreturn\u001b[0m \u001b[0mdata\u001b[0m\u001b[0;34m\u001b[0m\u001b[0m\n\u001b[1;32m    964\u001b[0m \u001b[0;34m\u001b[0m\u001b[0m\n",
        "\u001b[0;32m/Users/rob/anaconda/envs/awesome/lib/python2.7/site-packages/elasticsearch/transport.pyc\u001b[0m in \u001b[0;36mperform_request\u001b[0;34m(self, method, url, params, body)\u001b[0m\n\u001b[1;32m    299\u001b[0m \u001b[0;34m\u001b[0m\u001b[0m\n\u001b[1;32m    300\u001b[0m             \u001b[0;32mtry\u001b[0m\u001b[0;34m:\u001b[0m\u001b[0;34m\u001b[0m\u001b[0m\n\u001b[0;32m--> 301\u001b[0;31m                 \u001b[0mstatus\u001b[0m\u001b[0;34m,\u001b[0m \u001b[0mheaders\u001b[0m\u001b[0;34m,\u001b[0m \u001b[0mdata\u001b[0m \u001b[0;34m=\u001b[0m \u001b[0mconnection\u001b[0m\u001b[0;34m.\u001b[0m\u001b[0mperform_request\u001b[0m\u001b[0;34m(\u001b[0m\u001b[0mmethod\u001b[0m\u001b[0;34m,\u001b[0m \u001b[0murl\u001b[0m\u001b[0;34m,\u001b[0m \u001b[0mparams\u001b[0m\u001b[0;34m,\u001b[0m \u001b[0mbody\u001b[0m\u001b[0;34m,\u001b[0m \u001b[0mignore\u001b[0m\u001b[0;34m=\u001b[0m\u001b[0mignore\u001b[0m\u001b[0;34m,\u001b[0m \u001b[0mtimeout\u001b[0m\u001b[0;34m=\u001b[0m\u001b[0mtimeout\u001b[0m\u001b[0;34m)\u001b[0m\u001b[0;34m\u001b[0m\u001b[0m\n\u001b[0m\u001b[1;32m    302\u001b[0m \u001b[0;34m\u001b[0m\u001b[0m\n\u001b[1;32m    303\u001b[0m             \u001b[0;32mexcept\u001b[0m \u001b[0mTransportError\u001b[0m \u001b[0;32mas\u001b[0m \u001b[0me\u001b[0m\u001b[0;34m:\u001b[0m\u001b[0;34m\u001b[0m\u001b[0m\n",
        "\u001b[0;32m/Users/rob/anaconda/envs/awesome/lib/python2.7/site-packages/elasticsearch/connection/http_urllib3.pyc\u001b[0m in \u001b[0;36mperform_request\u001b[0;34m(self, method, url, params, body, timeout, ignore)\u001b[0m\n\u001b[1;32m     80\u001b[0m         \u001b[0;32mif\u001b[0m \u001b[0;32mnot\u001b[0m \u001b[0;34m(\u001b[0m\u001b[0;36m200\u001b[0m \u001b[0;34m<=\u001b[0m \u001b[0mresponse\u001b[0m\u001b[0;34m.\u001b[0m\u001b[0mstatus\u001b[0m \u001b[0;34m<\u001b[0m \u001b[0;36m300\u001b[0m\u001b[0;34m)\u001b[0m \u001b[0;32mand\u001b[0m \u001b[0mresponse\u001b[0m\u001b[0;34m.\u001b[0m\u001b[0mstatus\u001b[0m \u001b[0;32mnot\u001b[0m \u001b[0;32min\u001b[0m \u001b[0mignore\u001b[0m\u001b[0;34m:\u001b[0m\u001b[0;34m\u001b[0m\u001b[0m\n\u001b[1;32m     81\u001b[0m             \u001b[0mself\u001b[0m\u001b[0;34m.\u001b[0m\u001b[0mlog_request_fail\u001b[0m\u001b[0;34m(\u001b[0m\u001b[0mmethod\u001b[0m\u001b[0;34m,\u001b[0m \u001b[0murl\u001b[0m\u001b[0;34m,\u001b[0m \u001b[0mbody\u001b[0m\u001b[0;34m,\u001b[0m \u001b[0mduration\u001b[0m\u001b[0;34m,\u001b[0m \u001b[0mresponse\u001b[0m\u001b[0;34m.\u001b[0m\u001b[0mstatus\u001b[0m\u001b[0;34m)\u001b[0m\u001b[0;34m\u001b[0m\u001b[0m\n\u001b[0;32m---> 82\u001b[0;31m             \u001b[0mself\u001b[0m\u001b[0;34m.\u001b[0m\u001b[0m_raise_error\u001b[0m\u001b[0;34m(\u001b[0m\u001b[0mresponse\u001b[0m\u001b[0;34m.\u001b[0m\u001b[0mstatus\u001b[0m\u001b[0;34m,\u001b[0m \u001b[0mraw_data\u001b[0m\u001b[0;34m)\u001b[0m\u001b[0;34m\u001b[0m\u001b[0m\n\u001b[0m\u001b[1;32m     83\u001b[0m \u001b[0;34m\u001b[0m\u001b[0m\n\u001b[1;32m     84\u001b[0m         self.log_request_success(method, full_url, url, body, response.status,\n",
        "\u001b[0;32m/Users/rob/anaconda/envs/awesome/lib/python2.7/site-packages/elasticsearch/connection/base.pyc\u001b[0m in \u001b[0;36m_raise_error\u001b[0;34m(self, status_code, raw_data)\u001b[0m\n\u001b[1;32m    100\u001b[0m             \u001b[0;32mpass\u001b[0m\u001b[0;34m\u001b[0m\u001b[0m\n\u001b[1;32m    101\u001b[0m \u001b[0;34m\u001b[0m\u001b[0m\n\u001b[0;32m--> 102\u001b[0;31m         \u001b[0;32mraise\u001b[0m \u001b[0mHTTP_EXCEPTIONS\u001b[0m\u001b[0;34m.\u001b[0m\u001b[0mget\u001b[0m\u001b[0;34m(\u001b[0m\u001b[0mstatus_code\u001b[0m\u001b[0;34m,\u001b[0m \u001b[0mTransportError\u001b[0m\u001b[0;34m)\u001b[0m\u001b[0;34m(\u001b[0m\u001b[0mstatus_code\u001b[0m\u001b[0;34m,\u001b[0m \u001b[0merror_message\u001b[0m\u001b[0;34m,\u001b[0m \u001b[0madditional_info\u001b[0m\u001b[0;34m)\u001b[0m\u001b[0;34m\u001b[0m\u001b[0m\n\u001b[0m\u001b[1;32m    103\u001b[0m \u001b[0;34m\u001b[0m\u001b[0m\n\u001b[1;32m    104\u001b[0m \u001b[0;34m\u001b[0m\u001b[0m\n",
        "\u001b[0;31mRequestError\u001b[0m: TransportError(400, u'SearchPhaseExecutionException[Failed to execute phase [query], all shards failed; shardFailures {[UQ8b64lHT9asgODLHBj5Xg][images][0]: SearchParseException[[images][0]: from[-1],size[6]: Parse Failure [Failed to parse source [{\"size\":6,\"query\":{\"bool\":{\"must_not\":{\"term\":{\"_uid\":\"features#1\"}},\"should\":[{\"mlt\":{\"fields\":[\"feature_5\"],\"like_text\":\"-0.6091861128807068\",\"fail_on_unsupported_field\":true}},{\"mlt\":{\"fields\":[\"feature_6\"],\"like_text\":\"7.803163051605225\",\"fail_on_unsupported_field\":true}},{\"mlt\":{\"fields\":[\"feature_7\"],\"like_text\":\"5.537357807159424\",\"fail_on_unsupported_field\":true}},{\"mlt\":{\"fields\":[\"feature_8\"],\"like_text\":\"18.04304313659668\",\"fail_on_unsupported_field\":true}},{\"mlt\":{\"fields\":[\"feature_1\"],\"like_text\":\"-12.612841606140137\",\"fail_on_unsupported_field\":true}},{\"mlt\":{\"fields\":[\"feature_2\"],\"like_text\":\"-0.8290179371833801\",\"fail_on_unsupported_field\":true}},{\"mlt\":{\"fields\":[\"feature_3\"],\"like_text\":\"18.542387008666992\",\"fail_on_unsupported_field\":true}},{\"mlt\":{\"fields\":[\"feature_4\"],\"like_text\":\"-2.306966781616211\",\"fail_on_unsupported_field\":true}},{\"mlt\":{\"fields\":[\"feature_0\"],\"like_text\":\"-7.9731926918029785\",\"fail_on_unsupported_field\":true}},{\"mlt\":{\"fields\":[\"feature_14\"],\"like_text\":\"-0.27988433837890625\",\"fail_on_unsupported_field\":true}},{\"mlt\":{\"fields\":[\"feature_11\"],\"like_text\":\"3.513390302658081\",\"fail_on_unsupported_field\":true}},{\"mlt\":{\"fields\":[\"feature_10\"],\"like_text\":\"-1.1521559953689575\",\"fail_on_unsupported_field\":true}},{\"mlt\":{\"fields\":[\"feature_13\"],\"like_text\":\"-18.209564208984375\",\"fail_on_unsupported_field\":true}},{\"mlt\":{\"fields\":[\"feature_12\"],\"like_text\":\"-6.420875549316406\",\"fail_on_unsupported_field\":true}},{\"mlt\":{\"fields\":[\"feature_9\"],\"like_text\":\"4.8709187507629395\",\"fail_on_unsupported_field\":true}}],\"adjust_pure_negative\":false}}}]]]; nested: ElasticsearchIllegalArgumentException[more_like_this doesn\\'t support binary/numeric fields: [feature_5]]; }{[UQ8b64lHT9asgODLHBj5Xg][images][1]: SearchParseException[[images][1]: from[-1],size[6]: Parse Failure [Failed to parse source [{\"size\":6,\"query\":{\"bool\":{\"must_not\":{\"term\":{\"_uid\":\"features#1\"}},\"should\":[{\"mlt\":{\"fields\":[\"feature_5\"],\"like_text\":\"-0.6091861128807068\",\"fail_on_unsupported_field\":true}},{\"mlt\":{\"fields\":[\"feature_6\"],\"like_text\":\"7.803163051605225\",\"fail_on_unsupported_field\":true}},{\"mlt\":{\"fields\":[\"feature_7\"],\"like_text\":\"5.537357807159424\",\"fail_on_unsupported_field\":true}},{\"mlt\":{\"fields\":[\"feature_8\"],\"like_text\":\"18.04304313659668\",\"fail_on_unsupported_field\":true}},{\"mlt\":{\"fields\":[\"feature_1\"],\"like_text\":\"-12.612841606140137\",\"fail_on_unsupported_field\":true}},{\"mlt\":{\"fields\":[\"feature_2\"],\"like_text\":\"-0.8290179371833801\",\"fail_on_unsupported_field\":true}},{\"mlt\":{\"fields\":[\"feature_3\"],\"like_text\":\"18.542387008666992\",\"fail_on_unsupported_field\":true}},{\"mlt\":{\"fields\":[\"feature_4\"],\"like_text\":\"-2.306966781616211\",\"fail_on_unsupported_field\":true}},{\"mlt\":{\"fields\":[\"feature_0\"],\"like_text\":\"-7.9731926918029785\",\"fail_on_unsupported_field\":true}},{\"mlt\":{\"fields\":[\"feature_14\"],\"like_text\":\"-0.27988433837890625\",\"fail_on_unsupported_field\":true}},{\"mlt\":{\"fields\":[\"feature_11\"],\"like_text\":\"3.513390302658081\",\"fail_on_unsupported_field\":true}},{\"mlt\":{\"fields\":[\"feature_10\"],\"like_text\":\"-1.1521559953689575\",\"fail_on_unsupported_field\":true}},{\"mlt\":{\"fields\":[\"feature_13\"],\"like_text\":\"-18.209564208984375\",\"fail_on_unsupported_field\":true}},{\"mlt\":{\"fields\":[\"feature_12\"],\"like_text\":\"-6.420875549316406\",\"fail_on_unsupported_field\":true}},{\"mlt\":{\"fields\":[\"feature_9\"],\"like_text\":\"4.8709187507629395\",\"fail_on_unsupported_field\":true}}],\"adjust_pure_negative\":false}}}]]]; nested: ElasticsearchIllegalArgumentException[more_like_this doesn\\'t support binary/numeric fields: [feature_5]]; }{[UQ8b64lHT9asgODLHBj5Xg][images][2]: SearchParseException[[images][2]: from[-1],size[6]: Parse Failure [Failed to parse source [{\"size\":6,\"query\":{\"bool\":{\"must_not\":{\"term\":{\"_uid\":\"features#1\"}},\"should\":[{\"mlt\":{\"fields\":[\"feature_5\"],\"like_text\":\"-0.6091861128807068\",\"fail_on_unsupported_field\":true}},{\"mlt\":{\"fields\":[\"feature_6\"],\"like_text\":\"7.803163051605225\",\"fail_on_unsupported_field\":true}},{\"mlt\":{\"fields\":[\"feature_7\"],\"like_text\":\"5.537357807159424\",\"fail_on_unsupported_field\":true}},{\"mlt\":{\"fields\":[\"feature_8\"],\"like_text\":\"18.04304313659668\",\"fail_on_unsupported_field\":true}},{\"mlt\":{\"fields\":[\"feature_1\"],\"like_text\":\"-12.612841606140137\",\"fail_on_unsupported_field\":true}},{\"mlt\":{\"fields\":[\"feature_2\"],\"like_text\":\"-0.8290179371833801\",\"fail_on_unsupported_field\":true}},{\"mlt\":{\"fields\":[\"feature_3\"],\"like_text\":\"18.542387008666992\",\"fail_on_unsupported_field\":true}},{\"mlt\":{\"fields\":[\"feature_4\"],\"like_text\":\"-2.306966781616211\",\"fail_on_unsupported_field\":true}},{\"mlt\":{\"fields\":[\"feature_0\"],\"like_text\":\"-7.9731926918029785\",\"fail_on_unsupported_field\":true}},{\"mlt\":{\"fields\":[\"feature_14\"],\"like_text\":\"-0.27988433837890625\",\"fail_on_unsupported_field\":true}},{\"mlt\":{\"fields\":[\"feature_11\"],\"like_text\":\"3.513390302658081\",\"fail_on_unsupported_field\":true}},{\"mlt\":{\"fields\":[\"feature_10\"],\"like_text\":\"-1.1521559953689575\",\"fail_on_unsupported_field\":true}},{\"mlt\":{\"fields\":[\"feature_13\"],\"like_text\":\"-18.209564208984375\",\"fail_on_unsupported_field\":true}},{\"mlt\":{\"fields\":[\"feature_12\"],\"like_text\":\"-6.420875549316406\",\"fail_on_unsupported_field\":true}},{\"mlt\":{\"fields\":[\"feature_9\"],\"like_text\":\"4.8709187507629395\",\"fail_on_unsupported_field\":true}}],\"adjust_pure_negative\":false}}}]]]; nested: ElasticsearchIllegalArgumentException[more_like_this doesn\\'t support binary/numeric fields: [feature_5]]; }{[UQ8b64lHT9asgODLHBj5Xg][images][3]: SearchParseException[[images][3]: from[-1],size[6]: Parse Failure [Failed to parse source [{\"size\":6,\"query\":{\"bool\":{\"must_not\":{\"term\":{\"_uid\":\"features#1\"}},\"should\":[{\"mlt\":{\"fields\":[\"feature_5\"],\"like_text\":\"-0.6091861128807068\",\"fail_on_unsupported_field\":true}},{\"mlt\":{\"fields\":[\"feature_6\"],\"like_text\":\"7.803163051605225\",\"fail_on_unsupported_field\":true}},{\"mlt\":{\"fields\":[\"feature_7\"],\"like_text\":\"5.537357807159424\",\"fail_on_unsupported_field\":true}},{\"mlt\":{\"fields\":[\"feature_8\"],\"like_text\":\"18.04304313659668\",\"fail_on_unsupported_field\":true}},{\"mlt\":{\"fields\":[\"feature_1\"],\"like_text\":\"-12.612841606140137\",\"fail_on_unsupported_field\":true}},{\"mlt\":{\"fields\":[\"feature_2\"],\"like_text\":\"-0.8290179371833801\",\"fail_on_unsupported_field\":true}},{\"mlt\":{\"fields\":[\"feature_3\"],\"like_text\":\"18.542387008666992\",\"fail_on_unsupported_field\":true}},{\"mlt\":{\"fields\":[\"feature_4\"],\"like_text\":\"-2.306966781616211\",\"fail_on_unsupported_field\":true}},{\"mlt\":{\"fields\":[\"feature_0\"],\"like_text\":\"-7.9731926918029785\",\"fail_on_unsupported_field\":true}},{\"mlt\":{\"fields\":[\"feature_14\"],\"like_text\":\"-0.27988433837890625\",\"fail_on_unsupported_field\":true}},{\"mlt\":{\"fields\":[\"feature_11\"],\"like_text\":\"3.513390302658081\",\"fail_on_unsupported_field\":true}},{\"mlt\":{\"fields\":[\"feature_10\"],\"like_text\":\"-1.1521559953689575\",\"fail_on_unsupported_field\":true}},{\"mlt\":{\"fields\":[\"feature_13\"],\"like_text\":\"-18.209564208984375\",\"fail_on_unsupported_field\":true}},{\"mlt\":{\"fields\":[\"feature_12\"],\"like_text\":\"-6.420875549316406\",\"fail_on_unsupported_field\":true}},{\"mlt\":{\"fields\":[\"feature_9\"],\"like_text\":\"4.8709187507629395\",\"fail_on_unsupported_field\":true}}],\"adjust_pure_negative\":false}}}]]]; nested: ElasticsearchIllegalArgumentException[more_like_this doesn\\'t support binary/numeric fields: [feature_5]]; }{[UQ8b64lHT9asgODLHBj5Xg][images][4]: SearchParseException[[images][4]: from[-1],size[6]: Parse Failure [Failed to parse source [{\"size\":6,\"query\":{\"bool\":{\"must_not\":{\"term\":{\"_uid\":\"features#1\"}},\"should\":[{\"mlt\":{\"fields\":[\"feature_5\"],\"like_text\":\"-0.6091861128807068\",\"fail_on_unsupported_field\":true}},{\"mlt\":{\"fields\":[\"feature_6\"],\"like_text\":\"7.803163051605225\",\"fail_on_unsupported_field\":true}},{\"mlt\":{\"fields\":[\"feature_7\"],\"like_text\":\"5.537357807159424\",\"fail_on_unsupported_field\":true}},{\"mlt\":{\"fields\":[\"feature_8\"],\"like_text\":\"18.04304313659668\",\"fail_on_unsupported_field\":true}},{\"mlt\":{\"fields\":[\"feature_1\"],\"like_text\":\"-12.612841606140137\",\"fail_on_unsupported_field\":true}},{\"mlt\":{\"fields\":[\"feature_2\"],\"like_text\":\"-0.8290179371833801\",\"fail_on_unsupported_field\":true}},{\"mlt\":{\"fields\":[\"feature_3\"],\"like_text\":\"18.542387008666992\",\"fail_on_unsupported_field\":true}},{\"mlt\":{\"fields\":[\"feature_4\"],\"like_text\":\"-2.306966781616211\",\"fail_on_unsupported_field\":true}},{\"mlt\":{\"fields\":[\"feature_0\"],\"like_text\":\"-7.9731926918029785\",\"fail_on_unsupported_field\":true}},{\"mlt\":{\"fields\":[\"feature_14\"],\"like_text\":\"-0.27988433837890625\",\"fail_on_unsupported_field\":true}},{\"mlt\":{\"fields\":[\"feature_11\"],\"like_text\":\"3.513390302658081\",\"fail_on_unsupported_field\":true}},{\"mlt\":{\"fields\":[\"feature_10\"],\"like_text\":\"-1.1521559953689575\",\"fail_on_unsupported_field\":true}},{\"mlt\":{\"fields\":[\"feature_13\"],\"like_text\":\"-18.209564208984375\",\"fail_on_unsupported_field\":true}},{\"mlt\":{\"fields\":[\"feature_12\"],\"like_text\":\"-6.420875549316406\",\"fail_on_unsupported_field\":true}},{\"mlt\":{\"fields\":[\"feature_9\"],\"like_text\":\"4.8709187507629395\",\"fail_on_unsupported_field\":true}}],\"adjust_pure_negative\":false}}}]]]; nested: ElasticsearchIllegalArgumentException[more_like_this doesn\\'t support binary/numeric fields: [feature_5]]; }]')"
       ]
      }
     ],
     "prompt_number": 23
    },
    {
     "cell_type": "code",
     "collapsed": false,
     "input": [],
     "language": "python",
     "metadata": {},
     "outputs": []
    }
   ],
   "metadata": {}
  }
 ]
}