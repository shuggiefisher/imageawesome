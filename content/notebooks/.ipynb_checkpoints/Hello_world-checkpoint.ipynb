{
 "metadata": {
  "name": "",
  "signature": "sha256:866ffd5605b8e4dbcb2579c49b97d1c82222a5bb480fbc4c80a50223008cde6f"
 },
 "nbformat": 3,
 "nbformat_minor": 0,
 "worksheets": [
  {
   "cells": [
    {
     "cell_type": "code",
     "collapsed": false,
     "input": [
      "print \"Hello World\""
     ],
     "language": "python",
     "metadata": {},
     "outputs": [
      {
       "output_type": "stream",
       "stream": "stdout",
       "text": [
        "Hello World\n"
       ]
      }
     ],
     "prompt_number": 3
    }
   ],
   "metadata": {}
  }
 ]
}